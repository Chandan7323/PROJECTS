{
 "cells": [
  {
   "cell_type": "code",
   "execution_count": null,
   "id": "72fe6db2-667a-43f9-b819-2192bdba8c6c",
   "metadata": {},
   "outputs": [],
   "source": []
  }
 ],
 "metadata": {
  "kernelspec": {
   "display_name": "",
   "name": ""
  },
  "language_info": {
   "name": ""
  }
 },
 "nbformat": 4,
 "nbformat_minor": 5
}
